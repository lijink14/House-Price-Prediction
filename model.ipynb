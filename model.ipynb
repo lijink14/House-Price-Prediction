{
 "cells": [
  {
   "cell_type": "code",
   "execution_count": 5,
   "id": "2668e0a9-29cf-4344-9aca-7652b2fe91a7",
   "metadata": {},
   "outputs": [],
   "source": [
    "# Importing  Libraries\n",
    "import pandas as pd\n",
    "import numpy as np\n",
    "import matplotlib.pyplot as plt\n",
    "import seaborn as sns\n",
    "from sklearn.model_selection import train_test_split, GridSearchCV\n",
    "from sklearn.preprocessing import StandardScaler, OneHotEncoder\n",
    "from sklearn.compose import ColumnTransformer\n",
    "from sklearn.pipeline import Pipeline\n",
    "from sklearn.decomposition import PCA\n",
    "from sklearn.linear_model import Ridge, Lasso\n",
    "from sklearn.metrics import mean_squared_error, r2_score"
   ]
  },
  {
   "cell_type": "code",
   "execution_count": 7,
   "id": "b7066d11-c346-417e-b88b-8a4d80cf086d",
   "metadata": {},
   "outputs": [
    {
     "name": "stdout",
     "output_type": "stream",
     "text": [
      "   Id  MSSubClass MSZoning  LotFrontage  LotArea Street Alley LotShape  \\\n",
      "0   1          60       RL         65.0     8450   Pave   NaN      Reg   \n",
      "1   2          20       RL         80.0     9600   Pave   NaN      Reg   \n",
      "2   3          60       RL         68.0    11250   Pave   NaN      IR1   \n",
      "3   4          70       RL         60.0     9550   Pave   NaN      IR1   \n",
      "4   5          60       RL         84.0    14260   Pave   NaN      IR1   \n",
      "\n",
      "  LandContour Utilities LotConfig LandSlope Neighborhood Condition1  \\\n",
      "0         Lvl    AllPub    Inside       Gtl      CollgCr       Norm   \n",
      "1         Lvl    AllPub       FR2       Gtl      Veenker      Feedr   \n",
      "2         Lvl    AllPub    Inside       Gtl      CollgCr       Norm   \n",
      "3         Lvl    AllPub    Corner       Gtl      Crawfor       Norm   \n",
      "4         Lvl    AllPub       FR2       Gtl      NoRidge       Norm   \n",
      "\n",
      "  Condition2 BldgType HouseStyle  OverallQual  OverallCond  YearBuilt  \\\n",
      "0       Norm     1Fam     2Story            7            5       2003   \n",
      "1       Norm     1Fam     1Story            6            8       1976   \n",
      "2       Norm     1Fam     2Story            7            5       2001   \n",
      "3       Norm     1Fam     2Story            7            5       1915   \n",
      "4       Norm     1Fam     2Story            8            5       2000   \n",
      "\n",
      "   YearRemodAdd RoofStyle RoofMatl Exterior1st Exterior2nd MasVnrType  \\\n",
      "0          2003     Gable  CompShg     VinylSd     VinylSd    BrkFace   \n",
      "1          1976     Gable  CompShg     MetalSd     MetalSd        NaN   \n",
      "2          2002     Gable  CompShg     VinylSd     VinylSd    BrkFace   \n",
      "3          1970     Gable  CompShg     Wd Sdng     Wd Shng        NaN   \n",
      "4          2000     Gable  CompShg     VinylSd     VinylSd    BrkFace   \n",
      "\n",
      "   MasVnrArea ExterQual ExterCond Foundation BsmtQual BsmtCond BsmtExposure  \\\n",
      "0       196.0        Gd        TA      PConc       Gd       TA           No   \n",
      "1         0.0        TA        TA     CBlock       Gd       TA           Gd   \n",
      "2       162.0        Gd        TA      PConc       Gd       TA           Mn   \n",
      "3         0.0        TA        TA     BrkTil       TA       Gd           No   \n",
      "4       350.0        Gd        TA      PConc       Gd       TA           Av   \n",
      "\n",
      "  BsmtFinType1  BsmtFinSF1 BsmtFinType2  BsmtFinSF2  BsmtUnfSF  TotalBsmtSF  \\\n",
      "0          GLQ         706          Unf           0        150          856   \n",
      "1          ALQ         978          Unf           0        284         1262   \n",
      "2          GLQ         486          Unf           0        434          920   \n",
      "3          ALQ         216          Unf           0        540          756   \n",
      "4          GLQ         655          Unf           0        490         1145   \n",
      "\n",
      "  Heating HeatingQC CentralAir Electrical  1stFlrSF  2ndFlrSF  LowQualFinSF  \\\n",
      "0    GasA        Ex          Y      SBrkr       856       854             0   \n",
      "1    GasA        Ex          Y      SBrkr      1262         0             0   \n",
      "2    GasA        Ex          Y      SBrkr       920       866             0   \n",
      "3    GasA        Gd          Y      SBrkr       961       756             0   \n",
      "4    GasA        Ex          Y      SBrkr      1145      1053             0   \n",
      "\n",
      "   GrLivArea  BsmtFullBath  BsmtHalfBath  FullBath  HalfBath  BedroomAbvGr  \\\n",
      "0       1710             1             0         2         1             3   \n",
      "1       1262             0             1         2         0             3   \n",
      "2       1786             1             0         2         1             3   \n",
      "3       1717             1             0         1         0             3   \n",
      "4       2198             1             0         2         1             4   \n",
      "\n",
      "   KitchenAbvGr KitchenQual  TotRmsAbvGrd Functional  Fireplaces FireplaceQu  \\\n",
      "0             1          Gd             8        Typ           0         NaN   \n",
      "1             1          TA             6        Typ           1          TA   \n",
      "2             1          Gd             6        Typ           1          TA   \n",
      "3             1          Gd             7        Typ           1          Gd   \n",
      "4             1          Gd             9        Typ           1          TA   \n",
      "\n",
      "  GarageType  GarageYrBlt GarageFinish  GarageCars  GarageArea GarageQual  \\\n",
      "0     Attchd       2003.0          RFn           2         548         TA   \n",
      "1     Attchd       1976.0          RFn           2         460         TA   \n",
      "2     Attchd       2001.0          RFn           2         608         TA   \n",
      "3     Detchd       1998.0          Unf           3         642         TA   \n",
      "4     Attchd       2000.0          RFn           3         836         TA   \n",
      "\n",
      "  GarageCond PavedDrive  WoodDeckSF  OpenPorchSF  EnclosedPorch  3SsnPorch  \\\n",
      "0         TA          Y           0           61              0          0   \n",
      "1         TA          Y         298            0              0          0   \n",
      "2         TA          Y           0           42              0          0   \n",
      "3         TA          Y           0           35            272          0   \n",
      "4         TA          Y         192           84              0          0   \n",
      "\n",
      "   ScreenPorch  PoolArea PoolQC Fence MiscFeature  MiscVal  MoSold  YrSold  \\\n",
      "0            0         0    NaN   NaN         NaN        0       2    2008   \n",
      "1            0         0    NaN   NaN         NaN        0       5    2007   \n",
      "2            0         0    NaN   NaN         NaN        0       9    2008   \n",
      "3            0         0    NaN   NaN         NaN        0       2    2006   \n",
      "4            0         0    NaN   NaN         NaN        0      12    2008   \n",
      "\n",
      "  SaleType SaleCondition  SalePrice  \n",
      "0       WD        Normal     208500  \n",
      "1       WD        Normal     181500  \n",
      "2       WD        Normal     223500  \n",
      "3       WD       Abnorml     140000  \n",
      "4       WD        Normal     250000  \n"
     ]
    }
   ],
   "source": [
    "# Setting display\n",
    "pd.set_option('display.max_columns', None)\n",
    "# Loading Data\n",
    "data = pd.read_csv('./train.csv')\n",
    "# Display few rows 5 of the dataset\n",
    "print(data.head())"
   ]
  },
  {
   "cell_type": "code",
   "execution_count": 8,
   "id": "c3c9fb20-35c0-4892-809d-d20fa20eda2a",
   "metadata": {},
   "outputs": [
    {
     "data": {
      "image/png": "[encoded data removed]",
      "text/plain": [
       "<Figure size 1000x600 with 1 Axes>"
      ]
     },
     "metadata": {},
     "output_type": "display_data"
    }
   ],
   "source": [
    "\n",
    "# Check for missing values\n",
    "missing_values = data.isnull().sum().sort_values(ascending=False)\n",
    "missing_values = missing_values[missing_values > 0]\n",
    "\n",
    "# Visualizing the missing values\n",
    "plt.figure(figsize=(10,6))\n",
    "sns.barplot(x=missing_values.index, y=missing_values)\n",
    "plt.xticks(rotation=90)\n",
    "plt.title('Missing Values')\n",
    "plt.show()\n"
   ]
  },
  {
   "cell_type": "code",
   "execution_count": 9,
   "id": "4643222b-b898-4ec5-a16f-1ab93da63f43",
   "metadata": {},
   "outputs": [],
   "source": [
    "# Handling missing values\n",
    "data['LotFrontage'].fillna(data['LotFrontage'].median(), inplace=True)\n",
    "data['MasVnrArea'].fillna(0, inplace=True)\n",
    "data['GarageYrBlt'].fillna(data['YearBuilt'], inplace=True)\n",
    "\n",
    "data.drop(columns=missing_values.index[4:], inplace=True)"
   ]
  },
  {
   "cell_type": "code",
   "execution_count": 10,
   "id": "f2f9c376-b2e5-41f5-a45f-8172a2073315",
   "metadata": {},
   "outputs": [],
   "source": [
    "# Encoding categorical variables and scaling numerical features\n",
    "numeric_features = data.select_dtypes(include=['int64', 'float64']).columns\n",
    "categorical_features = data.select_dtypes(include=['object']).columns\n",
    "\n",
    "# Remove SalePrice from numeric features as it is the target\n",
    "numeric_features = numeric_features.drop('SalePrice')"
   ]
  },
  {
   "cell_type": "code",
   "execution_count": 12,
   "id": "c9ec1519-b5b3-4424-b68f-36346e61b5a2",
   "metadata": {},
   "outputs": [],
   "source": [
    "# preprocessor\n",
    "preprocessor = ColumnTransformer(\n",
    "    transformers=[\n",
    "        ('num', StandardScaler(), numeric_features),\n",
    "        ('cat', OneHotEncoder(handle_unknown='ignore', sparse_output=False), categorical_features)\n",
    "    ])"
   ]
  },
  {
   "cell_type": "code",
   "execution_count": 13,
   "id": "b6b80df7-cb4e-4329-bb00-f521b1e1a203",
   "metadata": {},
   "outputs": [],
   "source": [
    "# Splitting the data into training and testing\n",
    "X = data.drop(columns=['SalePrice'])\n",
    "y = data['SalePrice']\n",
    "X_train, X_test, y_train, y_test = train_test_split(X, y, test_size=0.2, random_state=42)"
   ]
  },
  {
   "cell_type": "code",
   "execution_count": 14,
   "id": "6190557d-0766-476c-bca1-cd614f779365",
   "metadata": {},
   "outputs": [],
   "source": [
    "# Apply PCA to reduce dimensions\n",
    "X_train_transformed = preprocessor.fit_transform(X_train)\n",
    "X_test_transformed = preprocessor.transform(X_test)\n",
    "\n",
    "pca = PCA(n_components=0.95)  # Preserve 95% of variance\n",
    "X_train_pca = pca.fit_transform(X_train_transformed)\n",
    "X_test_pca = pca.transform(X_test_transformed)"
   ]
  },
  {
   "cell_type": "code",
   "execution_count": 15,
   "id": "b96a4a9e-19d7-4f9c-88fb-348092e4d03d",
   "metadata": {},
   "outputs": [],
   "source": [
    "# Ridge Regression\n",
    "ridge = Ridge(max_iter=10000)\n",
    "\n",
    "# Define the parameter grid\n",
    "param_grid = {'alpha': np.logspace(-3, 3, 7)}"
   ]
  },
  {
   "cell_type": "code",
   "execution_count": 16,
   "id": "7ef4e688-901e-412d-bdf2-b7683fe0c111",
   "metadata": {},
   "outputs": [],
   "source": [
    "# Grid search (Ridge Regression)\n",
    "ridge_cv = GridSearchCV(ridge, param_grid, cv=5, scoring='neg_mean_squared_error')\n",
    "ridge_cv.fit(X_train_pca, y_train)\n",
    "ridge_best_alpha = ridge_cv.best_params_['alpha']\n",
    "ridge_best_model = ridge_cv.best_estimator_"
   ]
  },
  {
   "cell_type": "code",
   "execution_count": 17,
   "id": "1c3cf58d-af52-46ff-ac80-e956ef249206",
   "metadata": {},
   "outputs": [],
   "source": [
    "# Lasso Regression\n",
    "lasso = Lasso(max_iter=10000)\n",
    "param_grid = {'alpha': np.logspace(-3, 3, 7)}\n",
    "\n",
    "# Grid search (Lasso Regression)\n",
    "lasso_cv = GridSearchCV(lasso, param_grid, cv=5, scoring='neg_mean_squared_error')\n",
    "lasso_cv.fit(X_train_pca, y_train)\n",
    "lasso_best_alpha = lasso_cv.best_params_['alpha']\n",
    "lasso_best_model = lasso_cv.best_estimator_"
   ]
  },
  {
   "cell_type": "code",
   "execution_count": 18,
   "id": "c63b9663-ae33-40c5-bc49-acf38ac8a084",
   "metadata": {},
   "outputs": [],
   "source": [
    "# evaluation of Ridge\n",
    "y_pred_ridge = ridge_best_model.predict(X_test_pca)\n",
    "ridge_rmse = np.sqrt(mean_squared_error(y_test, y_pred_ridge))\n",
    "ridge_r2 = r2_score(y_test, y_pred_ridge)"
   ]
  },
  {
   "cell_type": "code",
   "execution_count": 19,
   "id": "5161e295-e3e7-4cf5-8b53-ae0bfbea2832",
   "metadata": {},
   "outputs": [],
   "source": [
    "# evaluation of Lasso\n",
    "y_pred_lasso = lasso_best_model.predict(X_test_pca)\n",
    "lasso_rmse = np.sqrt(mean_squared_error(y_test, y_pred_lasso))\n",
    "lasso_r2 = r2_score(y_test, y_pred_lasso)"
   ]
  },
  {
   "cell_type": "code",
   "execution_count": 20,
   "id": "c027cb35-0caf-411d-aea2-41e14dec0839",
   "metadata": {},
   "outputs": [
    {
     "name": "stdout",
     "output_type": "stream",
     "text": [
      "Ridge Regression - RMSE: 35665.15457416584, R2: 0.8341656904230135\n",
      "Lasso Regression - RMSE: 35145.08795641518, R2: 0.8389667956615987\n"
     ]
    }
   ],
   "source": [
    "print(f'Ridge Regression - RMSE: {ridge_rmse}, R2: {ridge_r2}')\n",
    "print(f'Lasso Regression - RMSE: {lasso_rmse}, R2: {lasso_r2}')"
   ]
  },
  {
   "cell_type": "code",
   "execution_count": 21,
   "id": "48626049-5626-4a7a-ac44-ed146ae3bebe",
   "metadata": {},
   "outputs": [
    {
     "name": "stdout",
     "output_type": "stream",
     "text": [
      "Optimal alpha for Ridge: 100.0\n",
      "Optimal alpha for Lasso: 100.0\n"
     ]
    }
   ],
   "source": [
    "print(f'Optimal alpha for Ridge: {ridge_best_alpha}')\n",
    "print(f'Optimal alpha for Lasso: {lasso_best_alpha}')"
   ]
  },
  {
   "cell_type": "code",
   "execution_count": null,
   "id": "a189d734-9951-4e13-ac8b-63ba9c220e61",
   "metadata": {},
   "outputs": [],
   "source": []
  }
 ],
 "metadata": {
  "kernelspec": {
   "display_name": "Python 3 (ipykernel)",
   "language": "python",
   "name": "python3"
  },
  "language_info": {
   "codemirror_mode": {
    "name": "ipython",
    "version": 3
   },
   "file_extension": ".py",
   "mimetype": "text/x-python",
   "name": "python",
   "nbconvert_exporter": "python",
   "pygments_lexer": "ipython3",
   "version": "3.11.7"
  }
 },
 "nbformat": 4,
 "nbformat_minor": 5
}
